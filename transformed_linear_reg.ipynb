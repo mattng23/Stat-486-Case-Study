{
 "cells": [
  {
   "cell_type": "code",
   "execution_count": 6,
   "metadata": {},
   "outputs": [
    {
     "name": "stderr",
     "output_type": "stream",
     "text": [
      "C:\\Users\\Matt\\AppData\\Local\\Temp\\ipykernel_6196\\2820750549.py:10: DtypeWarning: Columns (23,24,36,49,50,52,53,54,55) have mixed types. Specify dtype option on import or set low_memory=False.\n",
      "  master = pd.read_csv('master1.csv')\n"
     ]
    },
    {
     "name": "stdout",
     "output_type": "stream",
     "text": [
      "Mean Squared Error: 0.34229462905098207\n",
      "R^2 Score: 0.2599319160873944\n",
      "P-values:\n",
      "const                              2.738954e-03\n",
      "FullMoon                           4.608383e-02\n",
      "Holiday                            3.492140e-01\n",
      "tempmax                            6.324106e-01\n",
      "tempmin                            7.198880e-01\n",
      "temp                               5.968790e-01\n",
      "feelslikemax                       7.385189e-01\n",
      "feelslikemin                       3.452091e-01\n",
      "feelslike                          5.493939e-02\n",
      "dew                                9.418282e-01\n",
      "humidity                           6.900599e-01\n",
      "precip                             1.154273e-02\n",
      "precipcover                        3.291627e-01\n",
      "snow                               6.247355e-02\n",
      "windspeed                          2.944299e-01\n",
      "sealevelpressure                   1.729470e-01\n",
      "cloudcover                         5.453243e-02\n",
      "visibility                         8.142012e-01\n",
      "solarradiation                     3.166489e-13\n",
      "uvindex                            3.526738e-02\n",
      "severerisk                         2.166040e-14\n",
      " Freezing Drizzle/Freezing Rain    6.900815e-01\n",
      " Ice                               6.326299e-02\n",
      " Overcast                          8.060263e-01\n",
      " Partially cloudy                  7.974514e-01\n",
      " Rain                              5.836022e-01\n",
      "Clear                              2.391414e-03\n",
      "Overcast                           7.554512e-03\n",
      "Partially cloudy                   4.129693e-03\n",
      "Rain                               5.335597e-03\n",
      "Snow                               1.118497e-02\n",
      "dtype: float64\n",
      "FullMoon: 0.0027389536\n",
      "Holiday: 0.0460838299\n",
      "tempmax: 0.3492139924\n",
      "tempmin: 0.6324105907\n",
      "temp: 0.7198880440\n",
      "feelslikemax: 0.5968790024\n",
      "feelslikemin: 0.7385188830\n",
      "feelslike: 0.3452091348\n",
      "dew: 0.0549393937\n",
      "humidity: 0.9418282443\n",
      "precip: 0.6900599291\n",
      "precipcover: 0.0115427343\n",
      "snow: 0.3291626580\n",
      "windspeed: 0.0624735520\n",
      "sealevelpressure: 0.2944298706\n",
      "cloudcover: 0.1729469791\n",
      "visibility: 0.0545324255\n",
      "solarradiation: 0.8142012386\n",
      "uvindex: 0.0000000000\n",
      "severerisk: 0.0352673802\n",
      " Freezing Drizzle/Freezing Rain: 0.0000000000\n",
      " Ice: 0.6900815269\n",
      " Overcast: 0.0632629854\n",
      " Partially cloudy: 0.8060263298\n",
      " Rain: 0.7974514247\n",
      "Clear: 0.5836022117\n",
      "Overcast: 0.0023914140\n",
      "Partially cloudy: 0.0075545118\n",
      "Rain: 0.0041296931\n",
      "Snow: 0.0053355972\n"
     ]
    },
    {
     "name": "stderr",
     "output_type": "stream",
     "text": [
      "C:\\Users\\Matt\\AppData\\Local\\Temp\\ipykernel_6196\\2820750549.py:43: SettingWithCopyWarning: \n",
      "A value is trying to be set on a copy of a slice from a DataFrame.\n",
      "Try using .loc[row_indexer,col_indexer] = value instead\n",
      "\n",
      "See the caveats in the documentation: https://pandas.pydata.org/pandas-docs/stable/user_guide/indexing.html#returning-a-view-versus-a-copy\n",
      "  final_data['conditions'] = final_data['conditions'].str.split(',')\n"
     ]
    }
   ],
   "source": [
    "import numpy as np\n",
    "import pandas as pd\n",
    "from sklearn.model_selection import train_test_split\n",
    "from sklearn.preprocessing import StandardScaler\n",
    "from sklearn.linear_model import LinearRegression\n",
    "from sklearn.metrics import mean_squared_error, r2_score\n",
    "import statsmodels.api as sm\n",
    "\n",
    "# Load the data\n",
    "master = pd.read_csv('master1.csv')\n",
    "\n",
    "# Filter relevant crime types\n",
    "relevant_crime_types = ['HOMICIDE', 'BATTERY', 'ASSAULT', 'ROBBERY', 'CRIMINAL SEXUAL ASSAULT']\n",
    "master = master[master['Primary Type'].isin(relevant_crime_types)]\n",
    "\n",
    "# Drop irrelevant columns\n",
    "columns_to_drop = ['Case Number', 'Time', 'Block', 'IUCR', 'Primary Type', 'Description', 'Location Description', 'Arrest', 'Domestic','Beat','District','Ward','Community Area','FBI Code','X Coordinate',\n",
    "                'Y Coordinate','Updated On','Latitude','Longitude','Location', 'Holiday Day of Week','precipprob','snowdepth','preciptype', 'windgust','winddir',\n",
    "                'solarenergy','sunrise', 'sunset','moonphase', 'description', 'icon','stations']\n",
    "data = master.drop(columns=columns_to_drop)\n",
    "\n",
    "# Replace NaN values with 0 indicating no holiday and severe risk\n",
    "data['Holiday'] = data['Holiday'].fillna(0)\n",
    "data['severerisk'] = data['severerisk'].fillna(0)\n",
    "\n",
    "# Replace non-NaN values with 1 indicating a holiday\n",
    "data['Holiday'] = data['Holiday'].apply(lambda x: 1 if x != 0 else 0)\n",
    "\n",
    "# Filter data for years after 2010\n",
    "data['Date'] = pd.to_datetime(data['Date'], format='%m/%d/%y')\n",
    "data = data[data['Date'].dt.year >= 2010]\n",
    "\n",
    "# Group by date and get crime counts\n",
    "daily_counts = data.groupby('Date').size().reset_index(name='Crime_Count')\n",
    "\n",
    "# Merge daily counts with the original DataFrame\n",
    "merged_data = pd.merge(data, daily_counts, on='Date')\n",
    "\n",
    "# Drop duplicate rows to keep only one entry per day\n",
    "final_data = merged_data.drop_duplicates(subset='Date')\n",
    "\n",
    "# Split conditions column and create dummy variables\n",
    "final_data['conditions'] = final_data['conditions'].str.split(',')\n",
    "final_data = final_data.join(final_data['conditions'].str.join('|').str.get_dummies())\n",
    "\n",
    "# Drop unnecessary columns\n",
    "final_data.drop(columns=['conditions'], inplace=True)\n",
    "\n",
    "final_data['Crime_Count'] = np.sqrt(final_data['Crime_Count'])\n",
    "\n",
    "# Save final data to a CSV file\n",
    "\n",
    "# Split the data into features (X) and target variable (y)\n",
    "X = final_data.drop(columns=['Crime_Count', 'ID', 'Date'])\n",
    "y = final_data['Crime_Count']\n",
    "\n",
    "# Split the data into training and testing sets\n",
    "X_train, X_test, y_train, y_test = train_test_split(X, y, test_size=0.2, random_state=42)\n",
    "\n",
    "model = LinearRegression()\n",
    "\n",
    "# Train the model on the training data\n",
    "model.fit(X_train, y_train)\n",
    "\n",
    "y_pred = model.predict(X_test)\n",
    "\n",
    "mse = mean_squared_error(y_test, y_pred)\n",
    "r2 = r2_score(y_test, y_pred)\n",
    "print(\"Mean Squared Error:\", mse)\n",
    "print(\"R^2 Score:\", r2)\n",
    "\n",
    "# Train OLS model\n",
    "X_with_intercept = sm.add_constant(X_train)  # Add intercept term\n",
    "sm_model = sm.OLS(y_train, X_with_intercept).fit()\n",
    "\n",
    "# Access p-values\n",
    "p_values = sm_model.pvalues\n",
    "print(\"P-values:\")\n",
    "print(p_values)\n",
    "\n",
    "# Print variable names and p-values without scientific notation\n",
    "for variable, p_value in zip(X.columns, p_values):\n",
    "    print(f\"{variable}: {p_value:.10f}\")"
   ]
  },
  {
   "cell_type": "code",
   "execution_count": 7,
   "metadata": {},
   "outputs": [
    {
     "name": "stdout",
     "output_type": "stream",
     "text": [
      "Shapiro-Wilk Test:\n",
      "Statistic: 0.99903804063797\n",
      "p-value: 0.8777165412902832\n",
      "Residuals are normally distributed (fail to reject H0)\n"
     ]
    }
   ],
   "source": [
    "from scipy.stats import shapiro\n",
    "\n",
    "# Calculate residuals\n",
    "residuals = y_test - y_pred\n",
    "\n",
    "# Perform Shapiro-Wilk test\n",
    "shapiro_statistic, shapiro_p_value = shapiro(residuals)\n",
    "print(\"Shapiro-Wilk Test:\")\n",
    "print(\"Statistic:\", shapiro_statistic)\n",
    "print(\"p-value:\", shapiro_p_value)\n",
    "\n",
    "# Interpret the results\n",
    "alpha = 0.05\n",
    "if shapiro_p_value > alpha:\n",
    "    print(\"Residuals are normally distributed (fail to reject H0)\")\n",
    "else:\n",
    "    print(\"Residuals are not normally distributed (reject H0)\")\n"
   ]
  },
  {
   "cell_type": "code",
   "execution_count": 8,
   "metadata": {},
   "outputs": [
    {
     "data": {
      "image/png": "[encoded data removed]",
      "text/plain": [
       "<Figure size 800x600 with 1 Axes>"
      ]
     },
     "metadata": {},
     "output_type": "display_data"
    }
   ],
   "source": [
    "import matplotlib.pyplot as plt\n",
    "\n",
    "# Calculate residuals\n",
    "residuals = y_test - y_pred\n",
    "\n",
    "# Plot histogram of residuals\n",
    "plt.figure(figsize=(8, 6))\n",
    "plt.hist(residuals, bins=20, color='skyblue', edgecolor='black')\n",
    "plt.title('Histogram of Residuals')\n",
    "plt.xlabel('Residuals')\n",
    "plt.ylabel('Frequency')\n",
    "plt.grid(True)\n",
    "plt.show()"
   ]
  },
  {
   "cell_type": "code",
   "execution_count": 9,
   "metadata": {},
   "outputs": [
    {
     "name": "stdout",
     "output_type": "stream",
     "text": [
      "Variables with p-values < 0.05:\n",
      "FullMoon: 0.0027389536\n",
      "Holiday: 0.0460838299\n",
      "precipcover: 0.0115427343\n",
      "uvindex: 0.0000000000\n",
      "severerisk: 0.0352673802\n",
      " Freezing Drizzle/Freezing Rain: 0.0000000000\n",
      "Overcast: 0.0023914140\n",
      "Partially cloudy: 0.0075545118\n",
      "Rain: 0.0041296931\n",
      "Snow: 0.0053355972\n"
     ]
    }
   ],
   "source": [
    "# Print variable names and p-values less than 0.05\n",
    "print(\"Variables with p-values < 0.05:\")\n",
    "for variable, p_value in zip(X.columns, p_values):\n",
    "    if p_value < 0.05:\n",
    "        print(f\"{variable}: {p_value:.10f}\")"
   ]
  }
 ],
 "metadata": {
  "kernelspec": {
   "display_name": "base",
   "language": "python",
   "name": "python3"
  },
  "language_info": {
   "codemirror_mode": {
    "name": "ipython",
    "version": 3
   },
   "file_extension": ".py",
   "mimetype": "text/x-python",
   "name": "python",
   "nbconvert_exporter": "python",
   "pygments_lexer": "ipython3",
   "version": "3.11.4"
  }
 },
 "nbformat": 4,
 "nbformat_minor": 2
}
