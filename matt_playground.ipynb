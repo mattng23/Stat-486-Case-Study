{
 "cells": [
  {
   "cell_type": "code",
   "execution_count": 113,
   "metadata": {},
   "outputs": [
    {
     "name": "stderr",
     "output_type": "stream",
     "text": [
      "C:\\Users\\Matt\\AppData\\Local\\Temp\\ipykernel_4044\\4029546296.py:9: DtypeWarning: Columns (23,24,36,49,50,52,53,54,55) have mixed types. Specify dtype option on import or set low_memory=False.\n",
      "  master = pd.read_csv('master1.csv')\n",
      "C:\\Users\\Matt\\AppData\\Local\\Temp\\ipykernel_4044\\4029546296.py:42: SettingWithCopyWarning: \n",
      "A value is trying to be set on a copy of a slice from a DataFrame.\n",
      "Try using .loc[row_indexer,col_indexer] = value instead\n",
      "\n",
      "See the caveats in the documentation: https://pandas.pydata.org/pandas-docs/stable/user_guide/indexing.html#returning-a-view-versus-a-copy\n",
      "  final_data['conditions'] = final_data['conditions'].str.split(',')\n"
     ]
    },
    {
     "name": "stdout",
     "output_type": "stream",
     "text": [
      "Mean Squared Error: 21.922148251273807\n",
      "R-squared: 0.25430935665173837\n"
     ]
    }
   ],
   "source": [
    "import numpy as np\n",
    "import pandas as pd\n",
    "from sklearn.model_selection import train_test_split\n",
    "from sklearn.preprocessing import StandardScaler\n",
    "from sklearn.linear_model import LinearRegression\n",
    "from sklearn.metrics import mean_squared_error, r2_score\n",
    "\n",
    "# Load the data\n",
    "master = pd.read_csv('master1.csv')\n",
    "\n",
    "# Filter relevant crime types\n",
    "relevant_crime_types = ['HOMICIDE', 'BATTERY', 'ASSAULT', 'ROBBERY', 'CRIMINAL SEXUAL ASSAULT']\n",
    "master = master[master['Primary Type'].isin(relevant_crime_types)]\n",
    "\n",
    "# Drop irrelevant columns\n",
    "columns_to_drop = ['Case Number', 'Time', 'Block', 'IUCR', 'Primary Type', 'Description', 'Location Description', 'Arrest', 'Domestic','Beat','District','Ward','Community Area','FBI Code','X Coordinate',\n",
    "                'Y Coordinate','Updated On','Latitude','Longitude','Location', 'Holiday Day of Week','precipprob','snowdepth','preciptype', 'windgust','winddir',\n",
    "                'solarenergy','sunrise', 'sunset','moonphase', 'description', 'icon','stations']\n",
    "data = master.drop(columns=columns_to_drop)\n",
    "\n",
    "# Replace NaN values with 0 indicating no holiday and severe risk\n",
    "data['Holiday'] = data['Holiday'].fillna(0)\n",
    "data['severerisk'] = data['severerisk'].fillna(0)\n",
    "\n",
    "# Replace non-NaN values with 1 indicating a holiday\n",
    "data['Holiday'] = data['Holiday'].apply(lambda x: 1 if x != 0 else 0)\n",
    "\n",
    "# Filter data for years after 2010\n",
    "data['Date'] = pd.to_datetime(data['Date'], format='%m/%d/%y')\n",
    "data = data[data['Date'].dt.year >= 2010]\n",
    "\n",
    "# Group by date and get crime counts\n",
    "daily_counts = data.groupby('Date').size().reset_index(name='Crime_Count')\n",
    "\n",
    "# Merge daily counts with the original DataFrame\n",
    "merged_data = pd.merge(data, daily_counts, on='Date')\n",
    "\n",
    "# Drop duplicate rows to keep only one entry per day\n",
    "final_data = merged_data.drop_duplicates(subset='Date')\n",
    "\n",
    "# Split conditions column and create dummy variables\n",
    "final_data['conditions'] = final_data['conditions'].str.split(',')\n",
    "final_data = final_data.join(final_data['conditions'].str.join('|').str.get_dummies())\n",
    "\n",
    "# Drop unnecessary columns\n",
    "final_data.drop(columns=['conditions'], inplace=True)\n",
    "\n",
    "# Save final data to a CSV file\n",
    "final_data.to_csv('test.csv', index=False)\n",
    "\n",
    "# Split the data into features (X) and target variable (y)\n",
    "X = final_data.drop(columns=['Crime_Count', 'ID', 'Date'])\n",
    "y = final_data['Crime_Count']\n",
    "\n",
    "# Split the data into training and testing sets\n",
    "X_train, X_test, y_train, y_test = train_test_split(X, y, test_size=0.2, random_state=42)\n"
   ]
  },
  {
   "cell_type": "code",
   "execution_count": 120,
   "metadata": {},
   "outputs": [
    {
     "name": "stdout",
     "output_type": "stream",
     "text": [
      "Mean Squared Error (Complex Model): 21.850083649124826\n",
      "R-squared (Complex Model): 0.25676066292533717\n"
     ]
    }
   ],
   "source": [
    "from sklearn.linear_model import ElasticNetCV\n",
    "from sklearn.preprocessing import PolynomialFeatures\n",
    "from sklearn.pipeline import make_pipeline\n",
    "from sklearn.metrics import mean_squared_error, r2_score\n",
    "\n",
    "# Define a pipeline with higher-degree polynomial features and Elastic Net regularization\n",
    "pipeline = make_pipeline(\n",
    "    PolynomialFeatures(degree=3),  # Increase polynomial degree\n",
    "    ElasticNetCV(cv=5, l1_ratio=0.5)   # Adjust the balance between L1 and L2 penalties\n",
    ")\n",
    "\n",
    "# Train the model\n",
    "pipeline.fit(X_train, y_train)\n",
    "\n",
    "# Evaluate the model\n",
    "mse_complex = mean_squared_error(y_test, pipeline.predict(X_test))\n",
    "r2_complex = r2_score(y_test, pipeline.predict(X_test))\n",
    "\n",
    "print(\"Mean Squared Error (Complex Model):\", mse_complex)\n",
    "print(\"R-squared (Complex Model):\", r2_complex)\n"
   ]
  }
 ],
 "metadata": {
  "kernelspec": {
   "display_name": "stat386",
   "language": "python",
   "name": "python3"
  },
  "language_info": {
   "codemirror_mode": {
    "name": "ipython",
    "version": 3
   },
   "file_extension": ".py",
   "mimetype": "text/x-python",
   "name": "python",
   "nbconvert_exporter": "python",
   "pygments_lexer": "ipython3",
   "version": "3.11.4"
  }
 },
 "nbformat": 4,
 "nbformat_minor": 2
}
